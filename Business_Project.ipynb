{
  "nbformat": 4,
  "nbformat_minor": 0,
  "metadata": {
    "colab": {
      "provenance": []
    },
    "kernelspec": {
      "name": "python3",
      "display_name": "Python 3"
    },
    "language_info": {
      "name": "python"
    }
  },
  "cells": [
    {
      "cell_type": "code",
      "execution_count": null,
      "metadata": {
        "id": "uSi9EdjRLihE"
      },
      "outputs": [],
      "source": [
        "import pandas as pd\n",
        "from sklearn.model_selection import train_test_split\n",
        "from sklearn.linear_model import LinearRegression\n",
        "from sklearn.metrics import mean_squared_error, r2_score"
      ]
    },
    {
      "cell_type": "code",
      "source": [
        "file_path = '/content/loans data.csv'\n",
        "data = pd.read_csv(file_path)\n",
        "print(data.head())"
      ],
      "metadata": {
        "colab": {
          "base_uri": "https://localhost:8080/"
        },
        "id": "lBcfogbsN74U",
        "outputId": "dfecdaac-31c3-471b-c099-00127cacc7bc",
        "collapsed": true
      },
      "execution_count": null,
      "outputs": [
        {
          "output_type": "stream",
          "name": "stdout",
          "text": [
            "        ID  Amount.Requested  Amount.Funded.By.Investors  Interest.Rate  \\\n",
            "0  81174.0             20000                     20000.0           0.09   \n",
            "1  99592.0             19200                     19200.0           0.12   \n",
            "2  80059.0             35000                     35000.0           0.22   \n",
            "3  15825.0             10000                      9975.0           0.10   \n",
            "4  33182.0             12000                     12000.0           0.12   \n",
            "\n",
            "  Loan.Length        Loan.Purpose  Debt.To.Income.Ratio Home.Ownership  \\\n",
            "0   36 months  debt_consolidation                  0.15       MORTGAGE   \n",
            "1   36 months  debt_consolidation                  0.28       MORTGAGE   \n",
            "2   60 months  debt_consolidation                  0.24       MORTGAGE   \n",
            "3   36 months  debt_consolidation                  0.14       MORTGAGE   \n",
            "4   36 months         credit_card                  0.19           RENT   \n",
            "\n",
            "   Monthly.Income  Open.CREDIT.Lines  Revolving.CREDIT.Balance  \\\n",
            "0         6541.67                 14                     14272   \n",
            "1         4583.33                 12                     11140   \n",
            "2        11500.00                 14                     21977   \n",
            "3         3833.33                 10                      9346   \n",
            "4         3195.00                 11                     14469   \n",
            "\n",
            "   Inquiries.in.the.Last.6.Months Employment.Length  \n",
            "0                               2            1 year  \n",
            "1                               1           2 years  \n",
            "2                               1           2 years  \n",
            "3                               0           5 years  \n",
            "4                               0           9 years  \n"
          ]
        }
      ]
    },
    {
      "cell_type": "markdown",
      "source": [
        "**Finding missing values**"
      ],
      "metadata": {
        "id": "XbWbeoqR7UkA"
      }
    },
    {
      "cell_type": "code",
      "source": [
        "null_values = data.isnull().sum()\n",
        "print(null_values)"
      ],
      "metadata": {
        "colab": {
          "base_uri": "https://localhost:8080/"
        },
        "id": "dkDUa-mc7A_6",
        "outputId": "dd905470-ee72-4846-ea7b-dff06a63f680"
      },
      "execution_count": null,
      "outputs": [
        {
          "output_type": "stream",
          "name": "stdout",
          "text": [
            "ID                                 1\n",
            "Amount.Requested                   0\n",
            "Amount.Funded.By.Investors         0\n",
            "Interest.Rate                      0\n",
            "Loan.Length                        1\n",
            "Loan.Purpose                       1\n",
            "Debt.To.Income.Ratio               0\n",
            "Home.Ownership                     1\n",
            "Monthly.Income                     0\n",
            "Open.CREDIT.Lines                  0\n",
            "Revolving.CREDIT.Balance           0\n",
            "Inquiries.in.the.Last.6.Months     0\n",
            "Employment.Length                 78\n",
            "dtype: int64\n"
          ]
        }
      ]
    },
    {
      "cell_type": "markdown",
      "source": [
        "**Drop the 'ID' column as it is irrelevant for model training**\n"
      ],
      "metadata": {
        "id": "cbmFBTa1VuEf"
      }
    },
    {
      "cell_type": "code",
      "source": [
        "data_cleaned = data.drop(columns=['ID'])"
      ],
      "metadata": {
        "id": "BxdcJoPlOV1H"
      },
      "execution_count": null,
      "outputs": []
    },
    {
      "cell_type": "markdown",
      "source": [
        "**Drop rows with missing values in 'Loan.Length', 'Loan.Purpose', and 'Home.Ownership' as these are important categorical features**"
      ],
      "metadata": {
        "id": "8aqboRpuVv83"
      }
    },
    {
      "cell_type": "code",
      "source": [
        "data_cleaned = data_cleaned.dropna(subset=['Loan.Length', 'Loan.Purpose', 'Home.Ownership'])\n"
      ],
      "metadata": {
        "id": "l9Zrb8cLOgM6"
      },
      "execution_count": null,
      "outputs": []
    },
    {
      "cell_type": "markdown",
      "source": [
        "**Fill missing values in 'Employment.Length' with 'Unknown' as it is categorical**"
      ],
      "metadata": {
        "id": "1efRQVWvV1gX"
      }
    },
    {
      "cell_type": "code",
      "source": [
        "data_cleaned['Employment.Length'] = data_cleaned['Employment.Length'].fillna('Unknown')"
      ],
      "metadata": {
        "id": "wzI7qoPnOhh0"
      },
      "execution_count": null,
      "outputs": []
    },
    {
      "cell_type": "markdown",
      "source": [
        "**categorical variables using one-hot encoding Encoding**"
      ],
      "metadata": {
        "id": "R1Fxynl7V-jE"
      }
    },
    {
      "cell_type": "code",
      "source": [
        "data_encoded = pd.get_dummies(data_cleaned,\n",
        "                              columns=['Loan.Length', 'Loan.Purpose', 'Home.Ownership', 'Employment.Length'],\n",
        "                              drop_first=True)"
      ],
      "metadata": {
        "id": "RQlA2rInOtjq"
      },
      "execution_count": null,
      "outputs": []
    },
    {
      "cell_type": "markdown",
      "source": [
        "**Defining the features (X) and target (y)**"
      ],
      "metadata": {
        "id": "iihxFhbpWMo7"
      }
    },
    {
      "cell_type": "code",
      "source": [
        "X = data_encoded.drop(columns=['Interest.Rate'])\n",
        "y = data_encoded['Interest.Rate']"
      ],
      "metadata": {
        "id": "4iaehJyjVKVs"
      },
      "execution_count": null,
      "outputs": []
    },
    {
      "cell_type": "markdown",
      "source": [
        "**Splitting the data into training and testing sets (80% training, 20% testing)**"
      ],
      "metadata": {
        "id": "lnROaYWlWZrS"
      }
    },
    {
      "cell_type": "code",
      "source": [
        "X_train, X_test, y_train, y_test = train_test_split(X, y, test_size=0.2, random_state=42)\n"
      ],
      "metadata": {
        "id": "yv1iOvCxWcay"
      },
      "execution_count": null,
      "outputs": []
    },
    {
      "cell_type": "markdown",
      "source": [
        "**Initializing and training the linear regression model**"
      ],
      "metadata": {
        "id": "KWiSsC0ZWmRh"
      }
    },
    {
      "cell_type": "code",
      "source": [
        "model = LinearRegression()\n",
        "model.fit(X_train, y_train)"
      ],
      "metadata": {
        "colab": {
          "base_uri": "https://localhost:8080/",
          "height": 74
        },
        "id": "63UPmjmSXR0S",
        "outputId": "c68c0db0-a3c9-4c04-c7ac-c17e5f9b2f6f"
      },
      "execution_count": null,
      "outputs": [
        {
          "output_type": "execute_result",
          "data": {
            "text/plain": [
              "LinearRegression()"
            ],
            "text/html": [
              "<style>#sk-container-id-1 {color: black;}#sk-container-id-1 pre{padding: 0;}#sk-container-id-1 div.sk-toggleable {background-color: white;}#sk-container-id-1 label.sk-toggleable__label {cursor: pointer;display: block;width: 100%;margin-bottom: 0;padding: 0.3em;box-sizing: border-box;text-align: center;}#sk-container-id-1 label.sk-toggleable__label-arrow:before {content: \"▸\";float: left;margin-right: 0.25em;color: #696969;}#sk-container-id-1 label.sk-toggleable__label-arrow:hover:before {color: black;}#sk-container-id-1 div.sk-estimator:hover label.sk-toggleable__label-arrow:before {color: black;}#sk-container-id-1 div.sk-toggleable__content {max-height: 0;max-width: 0;overflow: hidden;text-align: left;background-color: #f0f8ff;}#sk-container-id-1 div.sk-toggleable__content pre {margin: 0.2em;color: black;border-radius: 0.25em;background-color: #f0f8ff;}#sk-container-id-1 input.sk-toggleable__control:checked~div.sk-toggleable__content {max-height: 200px;max-width: 100%;overflow: auto;}#sk-container-id-1 input.sk-toggleable__control:checked~label.sk-toggleable__label-arrow:before {content: \"▾\";}#sk-container-id-1 div.sk-estimator input.sk-toggleable__control:checked~label.sk-toggleable__label {background-color: #d4ebff;}#sk-container-id-1 div.sk-label input.sk-toggleable__control:checked~label.sk-toggleable__label {background-color: #d4ebff;}#sk-container-id-1 input.sk-hidden--visually {border: 0;clip: rect(1px 1px 1px 1px);clip: rect(1px, 1px, 1px, 1px);height: 1px;margin: -1px;overflow: hidden;padding: 0;position: absolute;width: 1px;}#sk-container-id-1 div.sk-estimator {font-family: monospace;background-color: #f0f8ff;border: 1px dotted black;border-radius: 0.25em;box-sizing: border-box;margin-bottom: 0.5em;}#sk-container-id-1 div.sk-estimator:hover {background-color: #d4ebff;}#sk-container-id-1 div.sk-parallel-item::after {content: \"\";width: 100%;border-bottom: 1px solid gray;flex-grow: 1;}#sk-container-id-1 div.sk-label:hover label.sk-toggleable__label {background-color: #d4ebff;}#sk-container-id-1 div.sk-serial::before {content: \"\";position: absolute;border-left: 1px solid gray;box-sizing: border-box;top: 0;bottom: 0;left: 50%;z-index: 0;}#sk-container-id-1 div.sk-serial {display: flex;flex-direction: column;align-items: center;background-color: white;padding-right: 0.2em;padding-left: 0.2em;position: relative;}#sk-container-id-1 div.sk-item {position: relative;z-index: 1;}#sk-container-id-1 div.sk-parallel {display: flex;align-items: stretch;justify-content: center;background-color: white;position: relative;}#sk-container-id-1 div.sk-item::before, #sk-container-id-1 div.sk-parallel-item::before {content: \"\";position: absolute;border-left: 1px solid gray;box-sizing: border-box;top: 0;bottom: 0;left: 50%;z-index: -1;}#sk-container-id-1 div.sk-parallel-item {display: flex;flex-direction: column;z-index: 1;position: relative;background-color: white;}#sk-container-id-1 div.sk-parallel-item:first-child::after {align-self: flex-end;width: 50%;}#sk-container-id-1 div.sk-parallel-item:last-child::after {align-self: flex-start;width: 50%;}#sk-container-id-1 div.sk-parallel-item:only-child::after {width: 0;}#sk-container-id-1 div.sk-dashed-wrapped {border: 1px dashed gray;margin: 0 0.4em 0.5em 0.4em;box-sizing: border-box;padding-bottom: 0.4em;background-color: white;}#sk-container-id-1 div.sk-label label {font-family: monospace;font-weight: bold;display: inline-block;line-height: 1.2em;}#sk-container-id-1 div.sk-label-container {text-align: center;}#sk-container-id-1 div.sk-container {/* jupyter's `normalize.less` sets `[hidden] { display: none; }` but bootstrap.min.css set `[hidden] { display: none !important; }` so we also need the `!important` here to be able to override the default hidden behavior on the sphinx rendered scikit-learn.org. See: https://github.com/scikit-learn/scikit-learn/issues/21755 */display: inline-block !important;position: relative;}#sk-container-id-1 div.sk-text-repr-fallback {display: none;}</style><div id=\"sk-container-id-1\" class=\"sk-top-container\"><div class=\"sk-text-repr-fallback\"><pre>LinearRegression()</pre><b>In a Jupyter environment, please rerun this cell to show the HTML representation or trust the notebook. <br />On GitHub, the HTML representation is unable to render, please try loading this page with nbviewer.org.</b></div><div class=\"sk-container\" hidden><div class=\"sk-item\"><div class=\"sk-estimator sk-toggleable\"><input class=\"sk-toggleable__control sk-hidden--visually\" id=\"sk-estimator-id-1\" type=\"checkbox\" checked><label for=\"sk-estimator-id-1\" class=\"sk-toggleable__label sk-toggleable__label-arrow\">LinearRegression</label><div class=\"sk-toggleable__content\"><pre>LinearRegression()</pre></div></div></div></div></div>"
            ]
          },
          "metadata": {},
          "execution_count": 9
        }
      ]
    },
    {
      "cell_type": "markdown",
      "source": [
        "**Making predictions on the test set**"
      ],
      "metadata": {
        "id": "PqeXMb6RXeHb"
      }
    },
    {
      "cell_type": "code",
      "source": [
        "y_pred = model.predict(X_test)\n",
        "print(y_pred)"
      ],
      "metadata": {
        "colab": {
          "base_uri": "https://localhost:8080/"
        },
        "collapsed": true,
        "id": "uDizVJUWXkmh",
        "outputId": "7af8a58a-15ee-4652-c215-37bb239c6c65"
      },
      "execution_count": null,
      "outputs": [
        {
          "output_type": "stream",
          "name": "stdout",
          "text": [
            "[0.1301618  0.10087657 0.09404343 0.12799945 0.14254393 0.1226833\n",
            " 0.09970528 0.14715062 0.14755332 0.09250446 0.12271389 0.11084565\n",
            " 0.12259519 0.10792097 0.11871106 0.15348612 0.12710749 0.17071103\n",
            " 0.14649595 0.11355961 0.14083473 0.09944699 0.10054619 0.16995897\n",
            " 0.12431173 0.12687008 0.10626968 0.10003287 0.13062472 0.11235767\n",
            " 0.12595791 0.10665257 0.12867906 0.12506118 0.12258161 0.15984266\n",
            " 0.11480989 0.12429209 0.13402642 0.1096793  0.1298854  0.13534477\n",
            " 0.11216849 0.16379769 0.09720712 0.09949365 0.12112806 0.12905655\n",
            " 0.12855025 0.18681449 0.11311212 0.12351596 0.09323505 0.11849533\n",
            " 0.12432211 0.16645034 0.12530094 0.11822768 0.11679013 0.12661977\n",
            " 0.13211075 0.11573349 0.10845464 0.11505601 0.11943855 0.13208824\n",
            " 0.10938434 0.15570203 0.10292625 0.14039263 0.15174482 0.13129531\n",
            " 0.12678348 0.17119169 0.13063613 0.11808126 0.12529989 0.1132054\n",
            " 0.11443544 0.12571701 0.12049337 0.16368485 0.1476713  0.12806175\n",
            " 0.15010063 0.16069646 0.12624574 0.12050158 0.11050005 0.13507569\n",
            " 0.1421549  0.14100087 0.11552023 0.18481343 0.11796961 0.1545462\n",
            " 0.11835969 0.17699501 0.13743674 0.12023478 0.08246578 0.14589651\n",
            " 0.14949064 0.1257955  0.10352172 0.10489003 0.09815218 0.10581111\n",
            " 0.11371545 0.17340322 0.13577975 0.12502778 0.11975372 0.14404698\n",
            " 0.10609821 0.12414164 0.09281081 0.13764186 0.1712959  0.17937919\n",
            " 0.1725479  0.08836103 0.09273387 0.13116292 0.15700699 0.11977069\n",
            " 0.13353549 0.13269524 0.13773443 0.12719583 0.10589925 0.12152496\n",
            " 0.11069088 0.11945553 0.12636845 0.13379725 0.13071318 0.10921934\n",
            " 0.09836131 0.12245987 0.16376353 0.1655985  0.1261441  0.14863384\n",
            " 0.09220143 0.12403397 0.14711277 0.0933516  0.17137154 0.12189159\n",
            " 0.08477583 0.16117806 0.09536056 0.12682786 0.11052416 0.12479858\n",
            " 0.13271417 0.10803261 0.11726697 0.09413649 0.11655875 0.13027403\n",
            " 0.14338096 0.12121455 0.11772343 0.12909282 0.12297305 0.12900034\n",
            " 0.19046186 0.10804245 0.10876628 0.13045792 0.12948196 0.16009449\n",
            " 0.11257111 0.14709491 0.11786052 0.13697526 0.11439816 0.12082024\n",
            " 0.12758895 0.12154124 0.13521283 0.08792353 0.17311408 0.1820387\n",
            " 0.13629164 0.12362758 0.17353991 0.12829571 0.11186915 0.11984382\n",
            " 0.12449237 0.10633498 0.1790295  0.11472446 0.15891689 0.16841992\n",
            " 0.17020889 0.13408488 0.12920643 0.12478182 0.1127135  0.11792906\n",
            " 0.13021686 0.19166655 0.16412967 0.11572471 0.10023112 0.11925425\n",
            " 0.1271298  0.14402781 0.10434508 0.10778564 0.16261719 0.12459545\n",
            " 0.10728916 0.15339975 0.12575306 0.12620507 0.11446815 0.12735919\n",
            " 0.17004035 0.17802045 0.13746941 0.11974081 0.16121463 0.12367122\n",
            " 0.11390174 0.10423602 0.10916358 0.17469833 0.12683943 0.15707073\n",
            " 0.14919444 0.11243216 0.09993511 0.14320709 0.11708292 0.138489\n",
            " 0.1334356  0.17830074 0.12143001 0.13143814 0.12685781 0.11447078\n",
            " 0.14282109 0.1284568  0.11975995 0.17369896 0.10868864 0.13574474\n",
            " 0.12253408 0.12967187 0.16275427 0.1386724  0.11164686 0.1185802\n",
            " 0.12902085 0.1139037  0.10027564 0.09477482 0.14432088 0.1187022\n",
            " 0.15782376 0.14813302 0.10558735 0.12377806 0.16337485 0.11484982\n",
            " 0.11161206 0.15958942 0.11909732 0.19496028 0.08022156 0.09874001\n",
            " 0.112641   0.11754073 0.11990479 0.13141819 0.16498674 0.11461938\n",
            " 0.12570233 0.11192134 0.12442575 0.09568079 0.17281317 0.13975207\n",
            " 0.18046811 0.18183583 0.1348267  0.14231679 0.16290584 0.09085294\n",
            " 0.11406446 0.10250434 0.10030036 0.11658578 0.12508866 0.11195057\n",
            " 0.12820106 0.12016018 0.17507487 0.11724103 0.10347351 0.13425243\n",
            " 0.18173043 0.16600351 0.18245481 0.11746211 0.13450334 0.14698481\n",
            " 0.12352168 0.08942238 0.18816349 0.12233654 0.11583134 0.1192873\n",
            " 0.09407237 0.11081422 0.09527546 0.17358285 0.14856597 0.1198384\n",
            " 0.11174596 0.13522262 0.16190355 0.12560195 0.11867044 0.141748\n",
            " 0.13826202 0.1202482  0.15907963 0.09012388 0.11956808 0.11410214\n",
            " 0.15271128 0.11591968 0.14794224 0.13210067 0.12909699 0.18290919\n",
            " 0.1190351  0.09866979 0.15739982 0.09994107 0.15952172 0.17111763\n",
            " 0.13221437 0.08822287 0.12861037 0.11614105 0.14776234 0.15815985\n",
            " 0.12752183 0.14852914 0.13850273 0.09830068 0.10949533 0.11674601\n",
            " 0.12221121 0.1293407  0.13325687 0.14973932 0.11638227 0.13218255\n",
            " 0.16710486 0.12008039 0.10766272 0.12119505 0.12039797 0.09979632\n",
            " 0.13485814 0.10956919 0.12188329 0.12145604 0.14246598 0.1241263\n",
            " 0.13720517 0.14038076 0.11335521 0.14779247 0.17891777 0.12625275\n",
            " 0.11776391 0.13582383 0.11434551 0.10122004 0.15840114 0.10128396\n",
            " 0.13391511 0.09651005 0.1293039  0.1163595  0.12054015 0.12736464\n",
            " 0.12843898 0.08861396 0.16692454 0.11117595 0.1350987  0.11098351\n",
            " 0.12489093 0.1396494  0.11545205 0.14373788 0.17231474 0.129031\n",
            " 0.10131483 0.09870006 0.15681021 0.10894921 0.16260457 0.18484019\n",
            " 0.11319135 0.14102954 0.11136697 0.1595135  0.12546484 0.17314545\n",
            " 0.12706172 0.10298486 0.11696355 0.1250619  0.10761707 0.16627825\n",
            " 0.16490898 0.16866288 0.1797953  0.12585131 0.13167974 0.10962634\n",
            " 0.1182908  0.13166595 0.08671906 0.1215827  0.11271763 0.1636987\n",
            " 0.16138434 0.11826641 0.12162039 0.1103937  0.13490411 0.14286044\n",
            " 0.14173826 0.11088439 0.11261493 0.11370194 0.12607349 0.07535218\n",
            " 0.15794836 0.17508009 0.14521376 0.12426327 0.10784775 0.11247839\n",
            " 0.11420828 0.10534773 0.13604375 0.13813045 0.13245785 0.1870174\n",
            " 0.11808341 0.12520403 0.1729442  0.18509606 0.10982501 0.1274667\n",
            " 0.12312932 0.15381483 0.12388109 0.13015938 0.12757675 0.12284683\n",
            " 0.13168395 0.13885574 0.12910336 0.12188614 0.11439764 0.13560729\n",
            " 0.12710428 0.14158358 0.11889052 0.11948159 0.12061077 0.12912086\n",
            " 0.18226441 0.16480846 0.12455841 0.12800718 0.14062559 0.1435667\n",
            " 0.17926506 0.15679834 0.09966611 0.13177738 0.14489764 0.1070034\n",
            " 0.14219979 0.12055277]\n"
          ]
        }
      ]
    },
    {
      "cell_type": "markdown",
      "source": [
        "**Evaluating the model**"
      ],
      "metadata": {
        "id": "B1-LalpoXssA"
      }
    },
    {
      "cell_type": "code",
      "source": [
        "mse = mean_squared_error(y_test, y_pred)\n",
        "r2 = r2_score(y_test, y_pred)\n",
        "print(f\"Mean Squared Error (MSE): {mse}\")\n",
        "print(f\"R-squared Score (R²): {r2}\")"
      ],
      "metadata": {
        "colab": {
          "base_uri": "https://localhost:8080/"
        },
        "id": "5NLZr8n2Xu13",
        "outputId": "4c08b392-15e4-44fe-ac96-b4cf78ffee0b"
      },
      "execution_count": null,
      "outputs": [
        {
          "output_type": "stream",
          "name": "stdout",
          "text": [
            "Mean Squared Error (MSE): 0.0012509869148484556\n",
            "R-squared Score (R²): 0.28425643200533435\n"
          ]
        }
      ]
    }
  ]
}